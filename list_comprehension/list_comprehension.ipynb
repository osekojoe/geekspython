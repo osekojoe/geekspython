{
 "cells": [
  {
   "cell_type": "code",
   "execution_count": 1,
   "metadata": {},
   "outputs": [
    {
     "name": "stdout",
     "output_type": "stream",
     "text": [
      "[1, 2, 3, 4]\n"
     ]
    }
   ],
   "source": [
    "# newList = [ expression(element) for element in oldList if condition ] \n",
    "\n",
    "# 1. List iteration\n",
    "list = [char for char in [1, 2, 3, 4]]\n",
    "print(list)"
   ]
  },
  {
   "cell_type": "code",
   "execution_count": 2,
   "metadata": {},
   "outputs": [
    {
     "name": "stdout",
     "output_type": "stream",
     "text": [
      "[0, 2, 4, 6, 8, 10]\n"
     ]
    }
   ],
   "source": [
    "# 2. even list using list comprehension\n",
    "list = [i for i in range(11) if i % 2 == 0]\n",
    "print(list)"
   ]
  },
  {
   "cell_type": "code",
   "execution_count": 3,
   "metadata": {},
   "outputs": [
    {
     "name": "stdout",
     "output_type": "stream",
     "text": [
      "[[0, 1, 2], [0, 1, 2], [0, 1, 2]]\n"
     ]
    }
   ],
   "source": [
    "# 3. array with list comprehension\n",
    "arr = [[i for i in range(3)] for j in range(3)]\n",
    "print(arr)"
   ]
  },
  {
   "cell_type": "code",
   "execution_count": 3,
   "metadata": {},
   "outputs": [
    {
     "name": "stdout",
     "output_type": "stream",
     "text": [
      "['J', 'o', 's', 'e', 'p', 'h', ' ', 'K', 'a', 'u', 'n', 'd', 'a']\n",
      "['J', 'o', 's', 'e', 'p', 'h', ' ', 'K', 'a', 'u', 'n', 'd', 'a']\n"
     ]
    }
   ],
   "source": [
    "# 4. for loop vs list comprehension\n",
    "# for loop\n",
    "list1 = []\n",
    "for char in 'Joseph Kaunda':\n",
    "\tlist1.append(char)\n",
    "\n",
    "print(list1)\n",
    "\n",
    "# list comprehension\n",
    "list2 = [char for char in 'Joseph Kaunda']\n",
    "print(list2)"
   ]
  },
  {
   "cell_type": "code",
   "execution_count": 5,
   "metadata": {},
   "outputs": [
    {
     "name": "stdout",
     "output_type": "stream",
     "text": [
      "[[0, 1, 2, 3, 4], [0, 1, 2, 3, 4], [0, 1, 2, 3, 4]]\n",
      "[[0, 1, 2, 3, 4], [0, 1, 2, 3, 4], [0, 1, 2, 3, 4]]\n"
     ]
    }
   ],
   "source": [
    "# Nested list comprehension\n",
    "\n",
    "# for loop\n",
    "arr1 = []\n",
    "\n",
    "for i in range(3):\n",
    "\tarr1.append([])\n",
    "\n",
    "\tfor j in range(5):\n",
    "\t\tarr1[i].append(j)\n",
    "\n",
    "print(arr1)\n",
    "\n",
    "# list comprehension\n",
    "arr2 = [[i for i in range(5)] for j in range(3)]\n",
    "print(arr2)"
   ]
  },
  {
   "cell_type": "code",
   "execution_count": 8,
   "metadata": {},
   "outputs": [
    {
     "name": "stdout",
     "output_type": "stream",
     "text": [
      "[10, 20, 30, 40, 50]\n",
      "[10, 20, 30, 40, 50]\n",
      "[10, 20, 30, 40, 50]\n"
     ]
    }
   ],
   "source": [
    "# list comprehension and lambda\n",
    "\n",
    "# for loop\n",
    "table1 = []\n",
    "\n",
    "for i in range(1, 6):\n",
    "\ttable1.append(i*10)\n",
    "\n",
    "print(table1)\n",
    "\n",
    "# list comprehension\n",
    "table2 = [i*10 for i in range(1,6)]\n",
    "print(table2)\n",
    "\n",
    "#list comprehension + lambda function\n",
    "list3 = list(map(lambda i: i * 10, [i for i in range(1, 6)]))\n",
    "print(list3)"
   ]
  },
  {
   "cell_type": "code",
   "execution_count": 9,
   "metadata": {},
   "outputs": [
    {
     "name": "stdout",
     "output_type": "stream",
     "text": [
      "['Even number', 'Odd number', 'Even number', 'Odd number', 'Even number', 'Odd number', 'Even number', 'Odd number', 'Even number', 'Odd number']\n"
     ]
    }
   ],
   "source": [
    "# list comprehension with if-else\n",
    "list = [\"Even number\" if i % 2 == 0 else \"Odd number\" for i in range(10)]\n",
    "print(list)"
   ]
  },
  {
   "cell_type": "code",
   "execution_count": 10,
   "metadata": {},
   "outputs": [
    {
     "name": "stdout",
     "output_type": "stream",
     "text": [
      "[0, 10, 20, 30, 40, 50, 60, 70, 80, 90]\n"
     ]
    }
   ],
   "source": [
    "# Nested IF with List Comprehension\n",
    "\n",
    "list = [i for i in range(100)\n",
    "\t\tif i % 5 == 0 if i % 10 == 0]\n",
    "\n",
    "print(list)"
   ]
  },
  {
   "cell_type": "code",
   "execution_count": 11,
   "metadata": {},
   "outputs": [
    {
     "name": "stdout",
     "output_type": "stream",
     "text": [
      "[[10, 40, 70], [20, 50, 80], [30, 60, 90]]\n"
     ]
    }
   ],
   "source": [
    "# Transpose of 2D- Matrix.\n",
    "twoD = [[10, 20, 30],[40, 50, 60], [70, 80, 90]]\n",
    "trans = [[i[j] for i in twoD] for j in range(len(twoD[0]))]\n",
    "\n",
    "print(trans)"
   ]
  },
  {
   "cell_type": "code",
   "execution_count": 18,
   "metadata": {},
   "outputs": [
    {
     "name": "stdout",
     "output_type": "stream",
     "text": [
      "[1, 2, 3]\n",
      "[4, 5, 6]\n",
      "[7, 8, 9]\n",
      "[10, 11, 12]\n",
      "\n",
      "\n",
      "[1, 4, 7, 10]\n",
      "[2, 5, 8, 11]\n",
      "[3, 6, 9, 12]\n",
      "for loop\n",
      "[1, 4, 7, 10]\n",
      "[2, 5, 8, 11]\n",
      "[3, 6, 9, 12]\n"
     ]
    }
   ],
   "source": [
    "m = [[1,2,3], [4,5,6], [7,8,9], [10,11,12]]\n",
    "t = [[0, 0, 0, 0], [0, 0, 0, 0], [0, 0, 0, 0]]\n",
    "for row in m:\n",
    "\tprint(row)\n",
    "trans = [[m[j][i] for j in range(len(m))] for i in range(len(m[0]))]\n",
    "print('list comprehension')\n",
    "for row in trans:\n",
    "\tprint(row)\n",
    "\n",
    "print('for loop')\n",
    "# for loop\n",
    "for i in range(len(m)):\n",
    "\tfor j in range(len(m[0])):\n",
    "\t\tt[j][i] = m[i][j]\n",
    "for row in t:\n",
    "\tprint(row)"
   ]
  }
 ],
 "metadata": {
  "kernelspec": {
   "display_name": "Python 3.10.4 ('jdev')",
   "language": "python",
   "name": "python3"
  },
  "language_info": {
   "codemirror_mode": {
    "name": "ipython",
    "version": 3
   },
   "file_extension": ".py",
   "mimetype": "text/x-python",
   "name": "python",
   "nbconvert_exporter": "python",
   "pygments_lexer": "ipython3",
   "version": "3.10.4"
  },
  "orig_nbformat": 4,
  "vscode": {
   "interpreter": {
    "hash": "c6d2553a64f0a13b5e88e1a0adc1f1dcbbb73f134744b50596367e3669d500a3"
   }
  }
 },
 "nbformat": 4,
 "nbformat_minor": 2
}
