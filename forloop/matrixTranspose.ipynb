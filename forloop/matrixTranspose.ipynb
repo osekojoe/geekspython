{
 "cells": [
  {
   "cell_type": "code",
   "execution_count": 1,
   "metadata": {},
   "outputs": [
    {
     "name": "stdout",
     "output_type": "stream",
     "text": [
      "[[1, 4, 7, 10], [2, 5, 8, 11], [3, 6, 9, 12]]\n"
     ]
    }
   ],
   "source": [
    "# 1. Nested list comprehension\n",
    "\n",
    "#matrix = [[1,2,3], [4,5,6], [7,8,9], [10,11,12]]\n",
    "m = [[1,2,3], [4,5,6], [7,8,9], [10,11,12]]\n",
    "t = [[0, 0, 0, 0], [0, 0, 0, 0], [0, 0, 0, 0]]\n",
    "\n",
    "for i in range(len(m)):\n",
    "\t\tfor j in range(len(m[0])):\n",
    "\t\t\tt[j][i] = m[i][j] # = matrix[i][j]\n",
    "\n",
    "print (t)"
   ]
  },
  {
   "cell_type": "code",
   "execution_count": 2,
   "metadata": {},
   "outputs": [
    {
     "name": "stdout",
     "output_type": "stream",
     "text": [
      "(1, 4, 7, 10)\n",
      "(2, 5, 8, 11)\n",
      "(3, 6, 9, 12)\n"
     ]
    }
   ],
   "source": [
    "# 2. zip method\n",
    "m = [[1,2,3], [4,5,6], [7,8,9], [10,11,12]]\n",
    "t_m = zip(*m)\n",
    "for row in t_m:\n",
    "\tprint(row)"
   ]
  },
  {
   "cell_type": "code",
   "execution_count": 3,
   "metadata": {},
   "outputs": [
    {
     "ename": "NameError",
     "evalue": "name 'np' is not defined",
     "output_type": "error",
     "traceback": [
      "\u001b[0;31m---------------------------------------------------------------------------\u001b[0m",
      "\u001b[0;31mNameError\u001b[0m                                 Traceback (most recent call last)",
      "Cell \u001b[0;32mIn [3], line 3\u001b[0m\n\u001b[1;32m      1\u001b[0m \u001b[39m# 3. numpy method\u001b[39;00m\n\u001b[1;32m      2\u001b[0m m \u001b[39m=\u001b[39m [[\u001b[39m1\u001b[39m,\u001b[39m2\u001b[39m,\u001b[39m3\u001b[39m], [\u001b[39m4\u001b[39m,\u001b[39m5\u001b[39m,\u001b[39m6\u001b[39m], [\u001b[39m7\u001b[39m,\u001b[39m8\u001b[39m,\u001b[39m9\u001b[39m], [\u001b[39m10\u001b[39m,\u001b[39m11\u001b[39m,\u001b[39m12\u001b[39m]]\n\u001b[0;32m----> 3\u001b[0m t_m \u001b[39m=\u001b[39m np\u001b[39m.\u001b[39mtranspose(m)\n\u001b[1;32m      4\u001b[0m \u001b[39mprint\u001b[39m(t_m)\n",
      "\u001b[0;31mNameError\u001b[0m: name 'np' is not defined"
     ]
    }
   ],
   "source": [
    "# 3. numpy method\n",
    "import numpy as np \n",
    "m = [[1,2,3], [4,5,6], [7,8,9], [10,11,12]]\n",
    "t_m = np.transpose(m)\n",
    "print(t_m)"
   ]
  }
 ],
 "metadata": {
  "kernelspec": {
   "display_name": "Python 3.10.4 ('jdev')",
   "language": "python",
   "name": "python3"
  },
  "language_info": {
   "codemirror_mode": {
    "name": "ipython",
    "version": 3
   },
   "file_extension": ".py",
   "mimetype": "text/x-python",
   "name": "python",
   "nbconvert_exporter": "python",
   "pygments_lexer": "ipython3",
   "version": "3.10.4"
  },
  "orig_nbformat": 4,
  "vscode": {
   "interpreter": {
    "hash": "c6d2553a64f0a13b5e88e1a0adc1f1dcbbb73f134744b50596367e3669d500a3"
   }
  }
 },
 "nbformat": 4,
 "nbformat_minor": 2
}
