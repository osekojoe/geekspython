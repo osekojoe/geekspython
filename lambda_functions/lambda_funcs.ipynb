{
 "cells": [
  {
   "cell_type": "code",
   "execution_count": 1,
   "metadata": {},
   "outputs": [
    {
     "name": "stdout",
     "output_type": "stream",
     "text": [
      "SKEEGROFSKEEG\n"
     ]
    }
   ],
   "source": [
    "# lambda funcs define anonymous functions; no def keyword\n",
    "\n",
    "# 1. convert string to upper and reverse it\n",
    "\n",
    "str = 'GeeksforGeeks'\n",
    "\n",
    "rev_upper = lambda string: string.upper()[::-1]\n",
    "print(rev_upper(str))"
   ]
  },
  {
   "cell_type": "code",
   "execution_count": 2,
   "metadata": {},
   "outputs": [
    {
     "name": "stdout",
     "output_type": "stream",
     "text": [
      "Int formatting: 1.000000e+05\n",
      "float formatting: 99,999.78\n"
     ]
    }
   ],
   "source": [
    "# 2. condition checking\n",
    "\n",
    "format_num = lambda num: f\"{num:e}\" if isinstance(num, int) else f\"{num:,.2f}\"\n",
    "\n",
    "print(\"Int formatting:\", format_num(100000))\n",
    "print(\"float formatting:\",format_num(99999.783425))"
   ]
  },
  {
   "cell_type": "code",
   "execution_count": 3,
   "metadata": {},
   "outputs": [
    {
     "name": "stdout",
     "output_type": "stream",
     "text": [
      "def func, cube:  27\n",
      "lmbda func, cube:  27\n"
     ]
    }
   ],
   "source": [
    "# 3. lambda vs def\n",
    "def cube(n):\n",
    "\treturn n**3\n",
    "\n",
    "lambda_cube = lambda y: y**3\n",
    "\n",
    "print(\"def func, cube: \", cube(3))\n",
    "print(\"lmbda func, cube: \", lambda_cube(3))"
   ]
  },
  {
   "cell_type": "code",
   "execution_count": 6,
   "metadata": {},
   "outputs": [
    {
     "name": "stdout",
     "output_type": "stream",
     "text": [
      "10\n",
      "20\n",
      "30\n",
      "40\n"
     ]
    }
   ],
   "source": [
    "# 4. lambda with list comprehension\n",
    "\n",
    "is_even = [lambda arg=x: arg*10 for x in range(1,5)]\n",
    "\n",
    "for i in is_even:\n",
    "\tprint(i())"
   ]
  },
  {
   "cell_type": "code",
   "execution_count": 7,
   "metadata": {},
   "outputs": [
    {
     "name": "stdout",
     "output_type": "stream",
     "text": [
      "4\n"
     ]
    }
   ],
   "source": [
    "# 5. lambda with if-else\n",
    "max = lambda a, b: a if (a > b) else b\n",
    "print(max(4,2))"
   ]
  },
  {
   "cell_type": "code",
   "execution_count": 9,
   "metadata": {},
   "outputs": [
    {
     "name": "stdout",
     "output_type": "stream",
     "text": [
      "[3, 16, 9]\n"
     ]
    }
   ],
   "source": [
    "# 6. lambda with multiple functions\n",
    "\n",
    "# find the second maximum element using lambda\n",
    "list = [[2,3,4],[1, 4, 16, 64],[3, 6, 9, 12]]\n",
    "\n",
    "#sort each sublist\n",
    "sortList = lambda x: (sorted(i) for i in x)\n",
    "\n",
    "#get second largest elem\n",
    "secondLargest = lambda x, f: [y[len(y) - 2] for y in f(x)]\n",
    "res = secondLargest(list, sortList)\n",
    "\n",
    "print(res)"
   ]
  }
 ],
 "metadata": {
  "kernelspec": {
   "display_name": "Python 3.10.4 ('jdev')",
   "language": "python",
   "name": "python3"
  },
  "language_info": {
   "codemirror_mode": {
    "name": "ipython",
    "version": 3
   },
   "file_extension": ".py",
   "mimetype": "text/x-python",
   "name": "python",
   "nbconvert_exporter": "python",
   "pygments_lexer": "ipython3",
   "version": "3.10.4"
  },
  "orig_nbformat": 4,
  "vscode": {
   "interpreter": {
    "hash": "c6d2553a64f0a13b5e88e1a0adc1f1dcbbb73f134744b50596367e3669d500a3"
   }
  }
 },
 "nbformat": 4,
 "nbformat_minor": 2
}
