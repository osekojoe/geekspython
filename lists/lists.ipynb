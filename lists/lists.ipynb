{
 "cells": [
  {
   "cell_type": "code",
   "execution_count": 1,
   "metadata": {},
   "outputs": [
    {
     "name": "stdout",
     "output_type": "stream",
     "text": [
      "['Geeks', 'for', 'Geeks']\n"
     ]
    }
   ],
   "source": [
    "# list from input\n",
    "string = input(\"Enter elements (space-seperated: \")\n",
    "lst = string .split() #split str and store in list\n",
    "print(lst)"
   ]
  },
  {
   "cell_type": "code",
   "execution_count": 4,
   "metadata": {},
   "outputs": [
    {
     "name": "stdout",
     "output_type": "stream",
     "text": [
      "[1, 2, 4, 6, 3]\n"
     ]
    }
   ],
   "source": [
    "# list from input\n",
    "lst = []\n",
    "n = int(input(\"Enter number of elements : \"))\n",
    "for i in range(0,n):\n",
    "\telem = int(input())\n",
    "\tlst.append(elem)\n",
    "print(lst)"
   ]
  },
  {
   "cell_type": "code",
   "execution_count": 6,
   "metadata": {},
   "outputs": [
    {
     "name": "stdout",
     "output_type": "stream",
     "text": [
      "[1, 2, 3]\n"
     ]
    }
   ],
   "source": [
    "#input + handling exception\n",
    "\n",
    "try:\n",
    "\tlst = []\n",
    "\n",
    "\twhile True:\n",
    "\t\tlst.append(int(input()))\n",
    "except:\n",
    "\tprint(lst) #if input is non-int"
   ]
  },
  {
   "cell_type": "code",
   "execution_count": 10,
   "metadata": {},
   "outputs": [
    {
     "name": "stdout",
     "output_type": "stream",
     "text": [
      "\n",
      "List is -  [3]\n"
     ]
    }
   ],
   "source": [
    "# using map()\n",
    "\n",
    "n = int(input(\"Enter number of elements: \"))\n",
    "lst = list(map(int, input(\"\\nEnter the numbers : \").strip().split()))[:n]\n",
    "print(\"\\nList is - \", lst)"
   ]
  },
  {
   "cell_type": "code",
   "execution_count": 15,
   "metadata": {},
   "outputs": [
    {
     "name": "stdout",
     "output_type": "stream",
     "text": [
      "[['3', 4], ['5', 1]]\n"
     ]
    }
   ],
   "source": [
    "# list of lists as input\n",
    "lst = [ ]\n",
    "n = int(input(\"Enter number of elements : \"))\n",
    "for i in range(0, n):\n",
    "\telem = [input(), int(input())]\n",
    "\tlst.append(elem)\n",
    "\n",
    "print(lst)"
   ]
  },
  {
   "cell_type": "code",
   "execution_count": 18,
   "metadata": {},
   "outputs": [
    {
     "name": "stdout",
     "output_type": "stream",
     "text": [
      "[1, 2, 3, 4, 5, 6]\n"
     ]
    }
   ],
   "source": [
    "#list comprehension and typecasting\n",
    "lst = []\n",
    "lst = [int(item) for item in input(\"Enter items : \").split()]\n",
    "print(lst)"
   ]
  },
  {
   "cell_type": "code",
   "execution_count": 20,
   "metadata": {},
   "outputs": [
    {
     "name": "stdout",
     "output_type": "stream",
     "text": [
      "3 4 \n",
      "5 6 \n"
     ]
    }
   ],
   "source": [
    "# matrix inout from user\n",
    "rows = int(input(\"Enter nrows : \"))\n",
    "cols = int(input(\"Enter ncols : \"))\n",
    "\n",
    "matrix = []\n",
    "\n",
    "for i in range(rows):\n",
    "\ta = []\n",
    "\tfor j in range(cols):\n",
    "\t\ta.append(int(input()))\n",
    "\tmatrix.append(a)\n",
    "\n",
    "for i in range(rows):\n",
    "\tfor j in range(cols):\n",
    "\t\tprint(matrix[i][j], end = \" \")\n",
    "\tprint()"
   ]
  },
  {
   "cell_type": "code",
   "execution_count": 22,
   "metadata": {},
   "outputs": [
    {
     "name": "stdout",
     "output_type": "stream",
     "text": [
      "[[1, 2], [3, 4]]\n"
     ]
    }
   ],
   "source": [
    "# matrix inout from user \n",
    "rows = int(input(\"Enter nrows : \"))\n",
    "cols = int(input(\"Enter ncols : \"))\n",
    "\n",
    "matrix = [[int(input()) for x in range(rows)] for y in range(cols)]\n",
    "\n",
    "print(matrix)"
   ]
  },
  {
   "cell_type": "code",
   "execution_count": null,
   "metadata": {},
   "outputs": [],
   "source": [
    "# matrix input; map func, numpy\n",
    "import numpy as np\n",
    "\n",
    "rows = int(input(\"Enter nrows : \"))\n",
    "cols = int(input(\"Enter ncols : \"))\n",
    "\n",
    "print(\"Enter the entries in a single line (separated by space): \")\n",
    "entries = list(map(int, input().split()))\n",
    "\n",
    "matrix = np.array(entries).reshape(rows, cols)\n",
    "print(matrix)"
   ]
  }
 ],
 "metadata": {
  "kernelspec": {
   "display_name": "Python 3.10.4 ('jdev')",
   "language": "python",
   "name": "python3"
  },
  "language_info": {
   "codemirror_mode": {
    "name": "ipython",
    "version": 3
   },
   "file_extension": ".py",
   "mimetype": "text/x-python",
   "name": "python",
   "nbconvert_exporter": "python",
   "pygments_lexer": "ipython3",
   "version": "3.10.4"
  },
  "orig_nbformat": 4,
  "vscode": {
   "interpreter": {
    "hash": "c6d2553a64f0a13b5e88e1a0adc1f1dcbbb73f134744b50596367e3669d500a3"
   }
  }
 },
 "nbformat": 4,
 "nbformat_minor": 2
}
