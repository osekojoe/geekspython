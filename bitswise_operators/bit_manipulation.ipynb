{
 "cells": [
  {
   "cell_type": "code",
   "execution_count": 2,
   "metadata": {},
   "outputs": [
    {
     "name": "stdout",
     "output_type": "stream",
     "text": [
      "a & b =  0\n",
      "a | b =  14\n",
      "~a =  -11\n",
      "a ^ b =  14\n"
     ]
    }
   ],
   "source": [
    "# bitwise operators\n",
    "a = 10\n",
    "b = 4\n",
    "\n",
    "print(\"a & b = \", a & b)\n",
    "print(\"a | b = \", a | b)\n",
    "print(\"~a = \", ~a)\n",
    "print(\"a ^ b = \", a ^ b)"
   ]
  },
  {
   "cell_type": "code",
   "execution_count": 3,
   "metadata": {},
   "outputs": [
    {
     "name": "stdout",
     "output_type": "stream",
     "text": [
      "7\n"
     ]
    }
   ],
   "source": [
    "# toggle nth bit\n",
    "# 6 = 110 \n",
    "def toggle_nth(x:int, n:int):\n",
    "\treturn x ^ (1 << n)\n",
    "\n",
    "print(toggle_nth(6, 0))\n"
   ]
  },
  {
   "cell_type": "code",
   "execution_count": 5,
   "metadata": {},
   "outputs": [
    {
     "name": "stdout",
     "output_type": "stream",
     "text": [
      "Odd\n"
     ]
    }
   ],
   "source": [
    "# is even or odd\n",
    "def evenOrOdd(x):\n",
    "\tif x & 1 == 0:\n",
    "\t\treturn \"Even\"\n",
    "\treturn \"Odd\"\n",
    "\n",
    "print(evenOrOdd(33))"
   ]
  },
  {
   "cell_type": "code",
   "execution_count": 9,
   "metadata": {},
   "outputs": [
    {
     "name": "stdout",
     "output_type": "stream",
     "text": [
      "Unset\n"
     ]
    }
   ],
   "source": [
    "# is nth bit set?\n",
    "def setOrUnset(x:int, n:int):\n",
    "\tif (x & (1 << n) == 0):\n",
    "\t\treturn \"Unset\"\n",
    "\treturn \"Set\"\n",
    "\n",
    "print(setOrUnset(5, 0))"
   ]
  }
 ],
 "metadata": {
  "kernelspec": {
   "display_name": "Python 3.10.4 ('jdev')",
   "language": "python",
   "name": "python3"
  },
  "language_info": {
   "codemirror_mode": {
    "name": "ipython",
    "version": 3
   },
   "file_extension": ".py",
   "mimetype": "text/x-python",
   "name": "python",
   "nbconvert_exporter": "python",
   "pygments_lexer": "ipython3",
   "version": "3.10.4"
  },
  "orig_nbformat": 4,
  "vscode": {
   "interpreter": {
    "hash": "c6d2553a64f0a13b5e88e1a0adc1f1dcbbb73f134744b50596367e3669d500a3"
   }
  }
 },
 "nbformat": 4,
 "nbformat_minor": 2
}
